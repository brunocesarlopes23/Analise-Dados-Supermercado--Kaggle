{
 "cells": [
  {
   "cell_type": "code",
   "execution_count": 109,
   "id": "43e8a5e4-a4d1-42fb-be16-4dda0f19e2b5",
   "metadata": {},
   "outputs": [],
   "source": [
    "import pandas as pd\n",
    "import numpy as np\n",
    "import seaborn as sb\n",
    "import statistics as sts\n",
    "import matplotlib.pyplot as plt"
   ]
  },
  {
   "cell_type": "code",
   "execution_count": 110,
   "id": "8f634b41-5340-41a0-b524-f642443c9559",
   "metadata": {},
   "outputs": [],
   "source": [
    "#import data\n",
    "data=pd.read_csv(\"Stores.csv\")"
   ]
  },
  {
   "cell_type": "code",
   "execution_count": 111,
   "id": "d63d779e-e4ba-416e-96ca-226931a3ffc7",
   "metadata": {},
   "outputs": [
    {
     "data": {
      "text/html": [
       "<div>\n",
       "<style scoped>\n",
       "    .dataframe tbody tr th:only-of-type {\n",
       "        vertical-align: middle;\n",
       "    }\n",
       "\n",
       "    .dataframe tbody tr th {\n",
       "        vertical-align: top;\n",
       "    }\n",
       "\n",
       "    .dataframe thead th {\n",
       "        text-align: right;\n",
       "    }\n",
       "</style>\n",
       "<table border=\"1\" class=\"dataframe\">\n",
       "  <thead>\n",
       "    <tr style=\"text-align: right;\">\n",
       "      <th></th>\n",
       "      <th>Store ID</th>\n",
       "      <th>Store_Area</th>\n",
       "      <th>Items_Available</th>\n",
       "      <th>Daily_Customer_Count</th>\n",
       "      <th>Store_Sales</th>\n",
       "    </tr>\n",
       "  </thead>\n",
       "  <tbody>\n",
       "    <tr>\n",
       "      <th>0</th>\n",
       "      <td>1</td>\n",
       "      <td>1659</td>\n",
       "      <td>1961</td>\n",
       "      <td>530</td>\n",
       "      <td>66490</td>\n",
       "    </tr>\n",
       "    <tr>\n",
       "      <th>1</th>\n",
       "      <td>2</td>\n",
       "      <td>1461</td>\n",
       "      <td>1752</td>\n",
       "      <td>210</td>\n",
       "      <td>39820</td>\n",
       "    </tr>\n",
       "    <tr>\n",
       "      <th>2</th>\n",
       "      <td>3</td>\n",
       "      <td>1340</td>\n",
       "      <td>1609</td>\n",
       "      <td>720</td>\n",
       "      <td>54010</td>\n",
       "    </tr>\n",
       "    <tr>\n",
       "      <th>3</th>\n",
       "      <td>4</td>\n",
       "      <td>1451</td>\n",
       "      <td>1748</td>\n",
       "      <td>620</td>\n",
       "      <td>53730</td>\n",
       "    </tr>\n",
       "    <tr>\n",
       "      <th>4</th>\n",
       "      <td>5</td>\n",
       "      <td>1770</td>\n",
       "      <td>2111</td>\n",
       "      <td>450</td>\n",
       "      <td>46620</td>\n",
       "    </tr>\n",
       "  </tbody>\n",
       "</table>\n",
       "</div>"
      ],
      "text/plain": [
       "   Store ID   Store_Area  Items_Available  Daily_Customer_Count  Store_Sales\n",
       "0          1        1659             1961                   530        66490\n",
       "1          2        1461             1752                   210        39820\n",
       "2          3        1340             1609                   720        54010\n",
       "3          4        1451             1748                   620        53730\n",
       "4          5        1770             2111                   450        46620"
      ]
     },
     "execution_count": 111,
     "metadata": {},
     "output_type": "execute_result"
    }
   ],
   "source": [
    "#view for to know data\n",
    "data.head()"
   ]
  },
  {
   "cell_type": "code",
   "execution_count": 112,
   "id": "313bc15c-a131-4563-89b4-bb7b4fa43618",
   "metadata": {},
   "outputs": [
    {
     "data": {
      "text/plain": [
       "(896, 5)"
      ]
     },
     "execution_count": 112,
     "metadata": {},
     "output_type": "execute_result"
    }
   ],
   "source": [
    "data.shape"
   ]
  },
  {
   "cell_type": "code",
   "execution_count": 113,
   "id": "91a6e7de-bab4-4717-86d4-f9d30b3e6ab9",
   "metadata": {},
   "outputs": [
    {
     "data": {
      "text/html": [
       "<div>\n",
       "<style scoped>\n",
       "    .dataframe tbody tr th:only-of-type {\n",
       "        vertical-align: middle;\n",
       "    }\n",
       "\n",
       "    .dataframe tbody tr th {\n",
       "        vertical-align: top;\n",
       "    }\n",
       "\n",
       "    .dataframe thead th {\n",
       "        text-align: right;\n",
       "    }\n",
       "</style>\n",
       "<table border=\"1\" class=\"dataframe\">\n",
       "  <thead>\n",
       "    <tr style=\"text-align: right;\">\n",
       "      <th></th>\n",
       "      <th>ID_LOJA</th>\n",
       "      <th>AREA_M2</th>\n",
       "      <th>ITENS_DISPONIVEIS</th>\n",
       "      <th>CLIENTES_DIA</th>\n",
       "      <th>VENDAS_LOJA</th>\n",
       "    </tr>\n",
       "  </thead>\n",
       "  <tbody>\n",
       "    <tr>\n",
       "      <th>0</th>\n",
       "      <td>1</td>\n",
       "      <td>1659</td>\n",
       "      <td>1961</td>\n",
       "      <td>530</td>\n",
       "      <td>66490</td>\n",
       "    </tr>\n",
       "    <tr>\n",
       "      <th>1</th>\n",
       "      <td>2</td>\n",
       "      <td>1461</td>\n",
       "      <td>1752</td>\n",
       "      <td>210</td>\n",
       "      <td>39820</td>\n",
       "    </tr>\n",
       "    <tr>\n",
       "      <th>2</th>\n",
       "      <td>3</td>\n",
       "      <td>1340</td>\n",
       "      <td>1609</td>\n",
       "      <td>720</td>\n",
       "      <td>54010</td>\n",
       "    </tr>\n",
       "    <tr>\n",
       "      <th>3</th>\n",
       "      <td>4</td>\n",
       "      <td>1451</td>\n",
       "      <td>1748</td>\n",
       "      <td>620</td>\n",
       "      <td>53730</td>\n",
       "    </tr>\n",
       "    <tr>\n",
       "      <th>4</th>\n",
       "      <td>5</td>\n",
       "      <td>1770</td>\n",
       "      <td>2111</td>\n",
       "      <td>450</td>\n",
       "      <td>46620</td>\n",
       "    </tr>\n",
       "  </tbody>\n",
       "</table>\n",
       "</div>"
      ],
      "text/plain": [
       "   ID_LOJA  AREA_M2  ITENS_DISPONIVEIS  CLIENTES_DIA  VENDAS_LOJA\n",
       "0        1     1659               1961           530        66490\n",
       "1        2     1461               1752           210        39820\n",
       "2        3     1340               1609           720        54010\n",
       "3        4     1451               1748           620        53730\n",
       "4        5     1770               2111           450        46620"
      ]
     },
     "execution_count": 113,
     "metadata": {},
     "output_type": "execute_result"
    }
   ],
   "source": [
    "#rename of columns\n",
    "data.columns=['ID_LOJA', 'AREA_M2', 'ITENS_DISPONIVEIS', 'CLIENTES_DIA','VENDAS_LOJA']\n",
    "data.head()"
   ]
  },
  {
   "cell_type": "code",
   "execution_count": 114,
   "id": "00642141-0f6f-4971-a526-3d5f5c436aef",
   "metadata": {},
   "outputs": [
    {
     "name": "stdout",
     "output_type": "stream",
     "text": [
      "sem ID repetido\n"
     ]
    }
   ],
   "source": [
    "#data cleaning and processing\n",
    "#are There duplicated ID? \n",
    "duplicado=data.duplicated()\n",
    "duplicado=pd.DataFrame(duplicado)\n",
    "duo=duplicado.groupby([0]).size()\n",
    "duo[0]\n",
    "if duo[0]!=896:\n",
    "    print('Yes, ID duplicated')\n",
    "else:\n",
    "    print('Not duplicated ID')"
   ]
  },
  {
   "cell_type": "code",
   "execution_count": 115,
   "id": "18666cfa-9474-4fe8-a598-0784a8c9b9c0",
   "metadata": {},
   "outputs": [
    {
     "data": {
      "text/plain": [
       "ID_LOJA              0\n",
       "AREA_M2              0\n",
       "ITENS_DISPONIVEIS    0\n",
       "CLIENTES_DIA         0\n",
       "VENDAS_LOJA          0\n",
       "dtype: int64"
      ]
     },
     "execution_count": 115,
     "metadata": {},
     "output_type": "execute_result"
    }
   ],
   "source": [
    "#Are there null ID?\n",
    "data.isnull().sum()"
   ]
  },
  {
   "cell_type": "code",
   "execution_count": 116,
   "id": "6e0390b5-2394-460f-94ed-d499fde44171",
   "metadata": {},
   "outputs": [
    {
     "name": "stdout",
     "output_type": "stream",
     "text": [
      "domínio area OK\n",
      "domínio itens OK\n",
      "domínio clientes fora\n",
      "     CLIENTES_DIA\n",
      "39          False\n",
      "151         False\n",
      "876         False \n",
      "\n",
      "resolvendo o problema\n",
      "ID_LOJA                 40\n",
      "AREA_M2               1270\n",
      "ITENS_DISPONIVEIS     1516\n",
      "CLIENTES_DIA           780\n",
      "VENDAS_LOJA          45480\n",
      "Name: 39, dtype: int64\n",
      "ID_LOJA                152\n",
      "AREA_M2               1662\n",
      "ITENS_DISPONIVEIS     1986\n",
      "CLIENTES_DIA           780\n",
      "VENDAS_LOJA          63730\n",
      "Name: 151, dtype: int64\n",
      "ID_LOJA                877\n",
      "AREA_M2               1259\n",
      "ITENS_DISPONIVEIS     1493\n",
      "CLIENTES_DIA           780\n",
      "VENDAS_LOJA          88270\n",
      "Name: 876, dtype: int64\n",
      "domínio vendas OK\n"
     ]
    }
   ],
   "source": [
    "#cheking domain.\n",
    "#suppose the domain is greater than 100.\n",
    "#to find error in domain and replace with the median\n",
    "dom_area= data['AREA_M2']>100\n",
    "if False in np.array(dom_area):\n",
    "    dom_area=pd.DataFrame(dom_area)\n",
    "    area_fora=dom_area.loc[(dom_clientes['AREA_M2']==False)]\n",
    "    print('error domain area')\n",
    "    print(area_fora, '\\n')\n",
    "    print('problem solving')\n",
    "    a=area_fora.axes\n",
    "    mediana_area=sts.median(data['AREA_M2'])\n",
    "    for i in a[0]:\n",
    "        data.loc[(i)]['AREA_M2']= mediana_area\n",
    "        print(data.iloc[i])\n",
    "else:\n",
    "    print('not error')\n",
    "    \n",
    "dom_itens=data['ITENS_DISPONIVEIS']>100\n",
    "if False in np.array(dom_itens):\n",
    "    dom_itens=pd.DataFrame(dom_itens)\n",
    "    itens_fora=dom_itens.loc[(dom_itens['ITENS_DISPONIVEIS']==False)]\n",
    "    print('error domain itens')\n",
    "    print(itens_fora, '\\n')\n",
    "    print('problem solving')\n",
    "    a=itens_fora.axes\n",
    "    mediana_itens=sts.median(data['ITENS_DISPONIVEIS'])\n",
    "    for i in a[0]:\n",
    "        data.loc[(i)]['ITENS_DISPONIVEIS']= mediana_itens\n",
    "        print(data.iloc[i])\n",
    "else:\n",
    "    print('Not error itens')\n",
    "\n",
    "dom_clientes=data['CLIENTES_DIA']>100\n",
    "if False in np.array(dom_clientes):\n",
    "    dom_clientes=pd.DataFrame(dom_clientes)\n",
    "    cli_fora=dom_clientes.loc[(dom_clientes['CLIENTES_DIA']==False)]\n",
    "    print('error domain fora')\n",
    "    print(cli_fora, '\\n')\n",
    "    print('problema solving')\n",
    "    a=cli_fora.axes\n",
    "    mediana_cli=sts.median(data['CLIENTES_DIA'])\n",
    "    for i in a[0]:\n",
    "        data.loc[(i)]['CLIENTES_DIA']= mediana_cli\n",
    "        print(data.iloc[i])\n",
    "else:\n",
    "    print('Not error clientes')\n",
    "\n",
    "dom_vendas=data['VENDAS_LOJA']>100\n",
    "if False in np.array(dom_vendas):\n",
    "    dom_vendas=pd.DataFrame(dom_vendas)\n",
    "    vendas_fora=dom_vendas.loc[(dom_vendas['VENDAS_LOJA']==False)]\n",
    "    print('error domain vendas')\n",
    "    print(vendas_fora, '\\n')\n",
    "    print('solving problem')\n",
    "    a=vendas_fora.axes\n",
    "    mediana_vendas=sts.median(data['VENDAS_LOJA'])\n",
    "    for i in a[0]:\n",
    "        data.loc[(i)]['VENDAS_LOJA']= mediana_vendas\n",
    "        print(data.iloc[i])\n",
    "else:\n",
    "    print('Not error problem')"
   ]
  },
  {
   "cell_type": "code",
   "execution_count": 117,
   "id": "797dc08e-e689-48a9-937c-a4011f9b6bf1",
   "metadata": {},
   "outputs": [
    {
     "data": {
      "text/html": [
       "<div>\n",
       "<style scoped>\n",
       "    .dataframe tbody tr th:only-of-type {\n",
       "        vertical-align: middle;\n",
       "    }\n",
       "\n",
       "    .dataframe tbody tr th {\n",
       "        vertical-align: top;\n",
       "    }\n",
       "\n",
       "    .dataframe thead th {\n",
       "        text-align: right;\n",
       "    }\n",
       "</style>\n",
       "<table border=\"1\" class=\"dataframe\">\n",
       "  <thead>\n",
       "    <tr style=\"text-align: right;\">\n",
       "      <th></th>\n",
       "      <th>ID_LOJA</th>\n",
       "      <th>AREA_M2</th>\n",
       "      <th>ITENS_DISPONIVEIS</th>\n",
       "      <th>CLIENTES_DIA</th>\n",
       "      <th>VENDAS_LOJA</th>\n",
       "    </tr>\n",
       "  </thead>\n",
       "  <tbody>\n",
       "    <tr>\n",
       "      <th>0</th>\n",
       "      <td>1</td>\n",
       "      <td>1659</td>\n",
       "      <td>1961</td>\n",
       "      <td>530</td>\n",
       "      <td>66490</td>\n",
       "    </tr>\n",
       "    <tr>\n",
       "      <th>1</th>\n",
       "      <td>2</td>\n",
       "      <td>1461</td>\n",
       "      <td>1752</td>\n",
       "      <td>210</td>\n",
       "      <td>39820</td>\n",
       "    </tr>\n",
       "    <tr>\n",
       "      <th>2</th>\n",
       "      <td>3</td>\n",
       "      <td>1340</td>\n",
       "      <td>1609</td>\n",
       "      <td>720</td>\n",
       "      <td>54010</td>\n",
       "    </tr>\n",
       "    <tr>\n",
       "      <th>3</th>\n",
       "      <td>4</td>\n",
       "      <td>1451</td>\n",
       "      <td>1748</td>\n",
       "      <td>620</td>\n",
       "      <td>53730</td>\n",
       "    </tr>\n",
       "    <tr>\n",
       "      <th>4</th>\n",
       "      <td>5</td>\n",
       "      <td>1770</td>\n",
       "      <td>2111</td>\n",
       "      <td>450</td>\n",
       "      <td>46620</td>\n",
       "    </tr>\n",
       "    <tr>\n",
       "      <th>5</th>\n",
       "      <td>6</td>\n",
       "      <td>1442</td>\n",
       "      <td>1733</td>\n",
       "      <td>760</td>\n",
       "      <td>45260</td>\n",
       "    </tr>\n",
       "    <tr>\n",
       "      <th>6</th>\n",
       "      <td>7</td>\n",
       "      <td>1542</td>\n",
       "      <td>1858</td>\n",
       "      <td>1030</td>\n",
       "      <td>72240</td>\n",
       "    </tr>\n",
       "    <tr>\n",
       "      <th>7</th>\n",
       "      <td>8</td>\n",
       "      <td>1261</td>\n",
       "      <td>1507</td>\n",
       "      <td>1020</td>\n",
       "      <td>37720</td>\n",
       "    </tr>\n",
       "    <tr>\n",
       "      <th>8</th>\n",
       "      <td>9</td>\n",
       "      <td>1090</td>\n",
       "      <td>1321</td>\n",
       "      <td>680</td>\n",
       "      <td>46310</td>\n",
       "    </tr>\n",
       "    <tr>\n",
       "      <th>9</th>\n",
       "      <td>10</td>\n",
       "      <td>1030</td>\n",
       "      <td>1235</td>\n",
       "      <td>1130</td>\n",
       "      <td>44150</td>\n",
       "    </tr>\n",
       "  </tbody>\n",
       "</table>\n",
       "</div>"
      ],
      "text/plain": [
       "   ID_LOJA  AREA_M2  ITENS_DISPONIVEIS  CLIENTES_DIA  VENDAS_LOJA\n",
       "0        1     1659               1961           530        66490\n",
       "1        2     1461               1752           210        39820\n",
       "2        3     1340               1609           720        54010\n",
       "3        4     1451               1748           620        53730\n",
       "4        5     1770               2111           450        46620\n",
       "5        6     1442               1733           760        45260\n",
       "6        7     1542               1858          1030        72240\n",
       "7        8     1261               1507          1020        37720\n",
       "8        9     1090               1321           680        46310\n",
       "9       10     1030               1235          1130        44150"
      ]
     },
     "execution_count": 117,
     "metadata": {},
     "output_type": "execute_result"
    }
   ],
   "source": [
    "data.head(10)"
   ]
  },
  {
   "cell_type": "code",
   "execution_count": 118,
   "id": "a2950d09-cbc9-4e44-ab20-a1389813e885",
   "metadata": {},
   "outputs": [
    {
     "data": {
      "image/png": "[encoded data removed]",
      "text/plain": [
       "<Figure size 432x288 with 1 Axes>"
      ]
     },
     "metadata": {
      "needs_background": "light"
     },
     "output_type": "display_data"
    }
   ],
   "source": [
    "#Histogram Área - normal distribution\n",
    "hist_area=plt.hist(data['AREA_M2'],\n",
    "    bins=15,\n",
    "    density=False)\n",
    "tha=plt.title('Histograma Área das lojas')"
   ]
  },
  {
   "cell_type": "code",
   "execution_count": 119,
   "id": "64bee2ea-6824-4345-a145-86eaf29b9c59",
   "metadata": {},
   "outputs": [
    {
     "data": {
      "image/png": "[encoded data removed]",
      "text/plain": [
       "<Figure size 432x288 with 1 Axes>"
      ]
     },
     "metadata": {
      "needs_background": "light"
     },
     "output_type": "display_data"
    }
   ],
   "source": [
    "#plot views\n",
    "box_area=data.boxplot(['AREA_M2'], patch_artist=True)\n",
    "tba=plt.title('Boxplot Área por loja')\n",
    "#Vemos que algumas há lojas muito maiores que outras\n",
    "#hipotse h1: As mairoes lojas vendem mais?"
   ]
  },
  {
   "cell_type": "code",
   "execution_count": 120,
   "id": "56c6f427-a34b-49a0-bdbc-180bc63c8278",
   "metadata": {},
   "outputs": [
    {
     "data": {
      "image/png": "[encoded data removed]",
      "text/plain": [
       "<Figure size 432x288 with 1 Axes>"
      ]
     },
     "metadata": {
      "needs_background": "light"
     },
     "output_type": "display_data"
    }
   ],
   "source": [
    "#Histogram clientes - normal distribution\n",
    "hist_clientes=plt.hist(data['CLIENTES_DIA'],\n",
    "    bins=15,\n",
    "    density=False)\n",
    "thc=plt.title('Histograma Clientes por dia')"
   ]
  },
  {
   "cell_type": "code",
   "execution_count": 121,
   "id": "e9b5207d-0862-444c-b27c-954d37faa1b3",
   "metadata": {},
   "outputs": [
    {
     "data": {
      "image/png": "[encoded data removed]",
      "text/plain": [
       "<Figure size 432x288 with 1 Axes>"
      ]
     },
     "metadata": {
      "needs_background": "light"
     },
     "output_type": "display_data"
    }
   ],
   "source": [
    "#boxplot\n",
    "box_clientes=data.boxplot(['CLIENTES_DIA'],patch_artist=True)\n",
    "tbc=plt.title('Boxplot Clientes por dia')\n",
    "#Vemos que há lojas com mais clientes.\n",
    "#hipotese h2:Estes out se relacionam com os out das maiores lojas?\n",
    "#hipotese h3: essas lojas com mais clientes vendem mais? "
   ]
  },
  {
   "cell_type": "code",
   "execution_count": 122,
   "id": "8527143a-8101-4707-a82b-623af3edb492",
   "metadata": {},
   "outputs": [
    {
     "data": {
      "image/png": "[encoded data removed]",
      "text/plain": [
       "<Figure size 432x288 with 1 Axes>"
      ]
     },
     "metadata": {
      "needs_background": "light"
     },
     "output_type": "display_data"
    }
   ],
   "source": [
    "#histograma das vendas. distribuição normal\n",
    "hist_clientes=plt.hist(data['VENDAS_LOJA'],\n",
    "    bins=15,\n",
    "    density=False)\n",
    "thv=plt.title('Histograma Vendas por Loja')"
   ]
  },
  {
   "cell_type": "code",
   "execution_count": 123,
   "id": "0a67d038-2d55-4b82-b3af-2910a96b2cea",
   "metadata": {},
   "outputs": [
    {
     "data": {
      "image/png": "[encoded data removed]",
      "text/plain": [
       "<Figure size 432x288 with 1 Axes>"
      ]
     },
     "metadata": {
      "needs_background": "light"
     },
     "output_type": "display_data"
    }
   ],
   "source": [
    "box_vendas=data.boxplot(['VENDAS_LOJA'],patch_artist=True)\n",
    "tbv=plt.title('Boxplot Vendas por loja')"
   ]
  },
  {
   "cell_type": "code",
   "execution_count": 124,
   "id": "f3b4bc8a-895d-4af5-9bac-f868912baea8",
   "metadata": {},
   "outputs": [
    {
     "data": {
      "image/png": "[encoded data removed]",
      "text/plain": [
       "<Figure size 432x288 with 2 Axes>"
      ]
     },
     "metadata": {
      "needs_background": "light"
     },
     "output_type": "display_data"
    }
   ],
   "source": [
    "#cheking correlations\n",
    "correlation=data.corr()\n",
    "plot_heat=sb.heatmap(correlation, annot = True, fmt=\".1f\", linewidths=.6)"
   ]
  },
  {
   "cell_type": "markdown",
   "id": "0ebbf6e4-e24f-40fb-9a08-cbbee25f36ac",
   "metadata": {},
   "source": [
    "Temos que: pρ = 0,9 a 1 (positivo ou negativo): correlação muito forte;\\n\n",
    "ρ = 0,7 a 09 (positivo ou negativo): correlação forte;\n",
    "ρ = 0,5 a 0,7 (positivo ou negativo): correlação moderada;\n",
    "ρ = 0,3 a 0,5 (positivo ou negativo): correlação fraca;\n",
    "ρ = 0 a 0,3 (positivo ou negativo): não possui correlação."
   ]
  },
  {
   "cell_type": "markdown",
   "id": "af0dde90-9de8-493c-ae52-c5c5e53caab7",
   "metadata": {},
   "source": [
    "Portanto quase não temos correlações, apenas: area e itens"
   ]
  },
  {
   "cell_type": "markdown",
   "id": "d1b52d35-46d7-4dd1-bf03-84ef8b79bc09",
   "metadata": {},
   "source": [
    "Isso pode nos indicar que a quantidade de vendas pode esta relacionada com outros aspectos, como: localização, preço, concorrencias, etc"
   ]
  },
  {
   "cell_type": "code",
   "execution_count": 125,
   "id": "7b2d4a08-6834-4fb1-b646-1ad57252e61e",
   "metadata": {},
   "outputs": [
    {
     "data": {
      "text/html": [
       "<div>\n",
       "<style scoped>\n",
       "    .dataframe tbody tr th:only-of-type {\n",
       "        vertical-align: middle;\n",
       "    }\n",
       "\n",
       "    .dataframe tbody tr th {\n",
       "        vertical-align: top;\n",
       "    }\n",
       "\n",
       "    .dataframe thead th {\n",
       "        text-align: right;\n",
       "    }\n",
       "</style>\n",
       "<table border=\"1\" class=\"dataframe\">\n",
       "  <thead>\n",
       "    <tr style=\"text-align: right;\">\n",
       "      <th></th>\n",
       "      <th>ID_LOJA</th>\n",
       "      <th>AREA_M2</th>\n",
       "      <th>ITENS_DISPONIVEIS</th>\n",
       "      <th>CLIENTES_DIA</th>\n",
       "      <th>VENDAS_LOJA</th>\n",
       "    </tr>\n",
       "  </thead>\n",
       "  <tbody>\n",
       "    <tr>\n",
       "      <th>649</th>\n",
       "      <td>650</td>\n",
       "      <td>1989</td>\n",
       "      <td>2414</td>\n",
       "      <td>860</td>\n",
       "      <td>116320</td>\n",
       "    </tr>\n",
       "    <tr>\n",
       "      <th>868</th>\n",
       "      <td>869</td>\n",
       "      <td>1775</td>\n",
       "      <td>2104</td>\n",
       "      <td>980</td>\n",
       "      <td>105150</td>\n",
       "    </tr>\n",
       "    <tr>\n",
       "      <th>432</th>\n",
       "      <td>433</td>\n",
       "      <td>1365</td>\n",
       "      <td>1638</td>\n",
       "      <td>680</td>\n",
       "      <td>102920</td>\n",
       "    </tr>\n",
       "    <tr>\n",
       "      <th>408</th>\n",
       "      <td>409</td>\n",
       "      <td>1303</td>\n",
       "      <td>1587</td>\n",
       "      <td>1310</td>\n",
       "      <td>102310</td>\n",
       "    </tr>\n",
       "    <tr>\n",
       "      <th>758</th>\n",
       "      <td>759</td>\n",
       "      <td>1486</td>\n",
       "      <td>1758</td>\n",
       "      <td>820</td>\n",
       "      <td>101820</td>\n",
       "    </tr>\n",
       "    <tr>\n",
       "      <th>557</th>\n",
       "      <td>558</td>\n",
       "      <td>1137</td>\n",
       "      <td>1374</td>\n",
       "      <td>700</td>\n",
       "      <td>101780</td>\n",
       "    </tr>\n",
       "    <tr>\n",
       "      <th>866</th>\n",
       "      <td>867</td>\n",
       "      <td>1565</td>\n",
       "      <td>1854</td>\n",
       "      <td>900</td>\n",
       "      <td>100900</td>\n",
       "    </tr>\n",
       "    <tr>\n",
       "      <th>166</th>\n",
       "      <td>167</td>\n",
       "      <td>1465</td>\n",
       "      <td>1763</td>\n",
       "      <td>680</td>\n",
       "      <td>99570</td>\n",
       "    </tr>\n",
       "    <tr>\n",
       "      <th>692</th>\n",
       "      <td>693</td>\n",
       "      <td>1548</td>\n",
       "      <td>1858</td>\n",
       "      <td>480</td>\n",
       "      <td>99480</td>\n",
       "    </tr>\n",
       "    <tr>\n",
       "      <th>871</th>\n",
       "      <td>872</td>\n",
       "      <td>1800</td>\n",
       "      <td>2158</td>\n",
       "      <td>1100</td>\n",
       "      <td>98260</td>\n",
       "    </tr>\n",
       "  </tbody>\n",
       "</table>\n",
       "</div>"
      ],
      "text/plain": [
       "     ID_LOJA  AREA_M2  ITENS_DISPONIVEIS  CLIENTES_DIA  VENDAS_LOJA\n",
       "649      650     1989               2414           860       116320\n",
       "868      869     1775               2104           980       105150\n",
       "432      433     1365               1638           680       102920\n",
       "408      409     1303               1587          1310       102310\n",
       "758      759     1486               1758           820       101820\n",
       "557      558     1137               1374           700       101780\n",
       "866      867     1565               1854           900       100900\n",
       "166      167     1465               1763           680        99570\n",
       "692      693     1548               1858           480        99480\n",
       "871      872     1800               2158          1100        98260"
      ]
     },
     "execution_count": 125,
     "metadata": {},
     "output_type": "execute_result"
    }
   ],
   "source": [
    "#10 best-selling stores\n",
    "data_vendas_cres=data.sort_values(by=['VENDAS_LOJA'],ascending=False)\n",
    "data_vendas_cres.head(10)"
   ]
  },
  {
   "cell_type": "code",
   "execution_count": 126,
   "id": "ae9c973d-8dcc-43c9-b947-47ec1be13d4b",
   "metadata": {},
   "outputs": [
    {
     "data": {
      "text/html": [
       "<div>\n",
       "<style scoped>\n",
       "    .dataframe tbody tr th:only-of-type {\n",
       "        vertical-align: middle;\n",
       "    }\n",
       "\n",
       "    .dataframe tbody tr th {\n",
       "        vertical-align: top;\n",
       "    }\n",
       "\n",
       "    .dataframe thead th {\n",
       "        text-align: right;\n",
       "    }\n",
       "</style>\n",
       "<table border=\"1\" class=\"dataframe\">\n",
       "  <thead>\n",
       "    <tr style=\"text-align: right;\">\n",
       "      <th></th>\n",
       "      <th>ID_LOJA</th>\n",
       "      <th>AREA_M2</th>\n",
       "      <th>ITENS_DISPONIVEIS</th>\n",
       "      <th>CLIENTES_DIA</th>\n",
       "      <th>VENDAS_LOJA</th>\n",
       "    </tr>\n",
       "  </thead>\n",
       "  <tbody>\n",
       "    <tr>\n",
       "      <th>31</th>\n",
       "      <td>32</td>\n",
       "      <td>1250</td>\n",
       "      <td>1508</td>\n",
       "      <td>990</td>\n",
       "      <td>14920</td>\n",
       "    </tr>\n",
       "    <tr>\n",
       "      <th>852</th>\n",
       "      <td>853</td>\n",
       "      <td>1477</td>\n",
       "      <td>1790</td>\n",
       "      <td>880</td>\n",
       "      <td>16370</td>\n",
       "    </tr>\n",
       "    <tr>\n",
       "      <th>775</th>\n",
       "      <td>776</td>\n",
       "      <td>1537</td>\n",
       "      <td>1877</td>\n",
       "      <td>660</td>\n",
       "      <td>17670</td>\n",
       "    </tr>\n",
       "    <tr>\n",
       "      <th>593</th>\n",
       "      <td>594</td>\n",
       "      <td>1624</td>\n",
       "      <td>1946</td>\n",
       "      <td>870</td>\n",
       "      <td>20270</td>\n",
       "    </tr>\n",
       "    <tr>\n",
       "      <th>352</th>\n",
       "      <td>353</td>\n",
       "      <td>1397</td>\n",
       "      <td>1686</td>\n",
       "      <td>850</td>\n",
       "      <td>21300</td>\n",
       "    </tr>\n",
       "    <tr>\n",
       "      <th>725</th>\n",
       "      <td>726</td>\n",
       "      <td>1445</td>\n",
       "      <td>1734</td>\n",
       "      <td>900</td>\n",
       "      <td>21470</td>\n",
       "    </tr>\n",
       "    <tr>\n",
       "      <th>372</th>\n",
       "      <td>373</td>\n",
       "      <td>1876</td>\n",
       "      <td>2254</td>\n",
       "      <td>1340</td>\n",
       "      <td>21650</td>\n",
       "    </tr>\n",
       "    <tr>\n",
       "      <th>277</th>\n",
       "      <td>278</td>\n",
       "      <td>1572</td>\n",
       "      <td>1869</td>\n",
       "      <td>1030</td>\n",
       "      <td>21750</td>\n",
       "    </tr>\n",
       "    <tr>\n",
       "      <th>252</th>\n",
       "      <td>253</td>\n",
       "      <td>1583</td>\n",
       "      <td>1907</td>\n",
       "      <td>680</td>\n",
       "      <td>21830</td>\n",
       "    </tr>\n",
       "    <tr>\n",
       "      <th>670</th>\n",
       "      <td>671</td>\n",
       "      <td>1461</td>\n",
       "      <td>1739</td>\n",
       "      <td>1250</td>\n",
       "      <td>22310</td>\n",
       "    </tr>\n",
       "  </tbody>\n",
       "</table>\n",
       "</div>"
      ],
      "text/plain": [
       "     ID_LOJA  AREA_M2  ITENS_DISPONIVEIS  CLIENTES_DIA  VENDAS_LOJA\n",
       "31        32     1250               1508           990        14920\n",
       "852      853     1477               1790           880        16370\n",
       "775      776     1537               1877           660        17670\n",
       "593      594     1624               1946           870        20270\n",
       "352      353     1397               1686           850        21300\n",
       "725      726     1445               1734           900        21470\n",
       "372      373     1876               2254          1340        21650\n",
       "277      278     1572               1869          1030        21750\n",
       "252      253     1583               1907           680        21830\n",
       "670      671     1461               1739          1250        22310"
      ]
     },
     "execution_count": 126,
     "metadata": {},
     "output_type": "execute_result"
    }
   ],
   "source": [
    "#10 stores that sold the least\n",
    "data_vendas_cres=data.sort_values(by=['VENDAS_LOJA'],ascending=True)\n",
    "data_vendas_cres.head(10)"
   ]
  },
  {
   "cell_type": "code",
   "execution_count": 140,
   "id": "443fa4aa-49c7-450e-b2aa-fea5fb2994c5",
   "metadata": {},
   "outputs": [
    {
     "name": "stdout",
     "output_type": "stream",
     "text": [
      "A média é  59351.30580357143  e a Mediana é 58605.0\n"
     ]
    }
   ],
   "source": [
    "#mean ans median of sales\n",
    "media_vendas=sts.mean(data['VENDAS_LOJA'])\n",
    "mediana_vendas=sts.median(data['VENDAS_LOJA'])\n",
    "print('A média é  {}  e a Mediana é {}'.format(media_vendas, mediana_vendas))"
   ]
  },
  {
   "cell_type": "code",
   "execution_count": 143,
   "id": "b1238071-fa04-4a00-950e-eb46456a2dbb",
   "metadata": {},
   "outputs": [
    {
     "name": "stdout",
     "output_type": "stream",
     "text": [
      "     ID_LOJA  AREA_M2  ITENS_DISPONIVEIS  CLIENTES_DIA  VENDAS_LOJA\n",
      "0          1     1659               1961           530        66490\n",
      "6          7     1542               1858          1030        72240\n",
      "10        11     1187               1439          1090        71280\n",
      "12        13     1746               2064          1050        60470\n",
      "14        15     1469               1756           770        66360\n",
      "..       ...      ...                ...           ...          ...\n",
      "890      891     1549               1851          1220        70620\n",
      "891      892     1582               1910          1080        66390\n",
      "892      893     1387               1663           850        82080\n",
      "893      894     1200               1436          1060        76440\n",
      "894      895     1299               1560           770        96610\n",
      "\n",
      "[433 rows x 5 columns]\n"
     ]
    }
   ],
   "source": [
    "#higher than average sales\n",
    "venda_maior_media=data.loc[(data['VENDAS_LOJA'])>media_vendas]\n",
    "print(venda_maior_media)"
   ]
  },
  {
   "cell_type": "code",
   "execution_count": 145,
   "id": "a5b6c7c2-54aa-49e9-80b4-aeec4681da8d",
   "metadata": {},
   "outputs": [
    {
     "name": "stdout",
     "output_type": "stream",
     "text": [
      "     ID_LOJA  AREA_M2  ITENS_DISPONIVEIS  CLIENTES_DIA  VENDAS_LOJA\n",
      "1          2     1461               1752           210        39820\n",
      "2          3     1340               1609           720        54010\n",
      "3          4     1451               1748           620        53730\n",
      "4          5     1770               2111           450        46620\n",
      "5          6     1442               1733           760        45260\n",
      "..       ...      ...                ...           ...          ...\n",
      "883      884     1357               1625          1140        52160\n",
      "884      885     1396               1673           690        32740\n",
      "888      889     1451               1734           670        34880\n",
      "889      890     1539               1829           650        46580\n",
      "895      896     1174               1429          1110        54340\n",
      "\n",
      "[463 rows x 5 columns]\n"
     ]
    }
   ],
   "source": [
    "#lower than average sales\n",
    "venda_menor_media=data.loc[(data['VENDAS_LOJA'])<media_vendas]\n",
    "print(venda_menor_media)"
   ]
  },
  {
   "cell_type": "markdown",
   "id": "386ee777-dd56-4b61-912e-6037fe81d9dd",
   "metadata": {},
   "source": []
  }
 ],
 "metadata": {
  "kernelspec": {
   "display_name": "Python 3 (ipykernel)",
   "language": "python",
   "name": "python3"
  },
  "language_info": {
   "codemirror_mode": {
    "name": "ipython",
    "version": 3
   },
   "file_extension": ".py",
   "mimetype": "text/x-python",
   "name": "python",
   "nbconvert_exporter": "python",
   "pygments_lexer": "ipython3",
   "version": "3.9.12"
  }
 },
 "nbformat": 4,
 "nbformat_minor": 5
}
